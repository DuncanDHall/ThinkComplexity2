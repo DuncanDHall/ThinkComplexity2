{
 "cells": [
  {
   "cell_type": "markdown",
   "metadata": {},
   "source": [
    "# Modeling Scale-Free Networks\n",
    "\n",
    "Including a new model that generates graphs with small world properties and a lognormal degree distribution.\n",
    "\n",
    "\n",
    "Copyright 2016 Allen Downey, [MIT License](http://opensource.org/licenses/MIT)"
   ]
  },
  {
   "cell_type": "code",
   "execution_count": 1,
   "metadata": {
    "collapsed": false
   },
   "outputs": [],
   "source": [
    "from __future__ import print_function, division\n",
    "\n",
    "%matplotlib inline\n",
    "%precision 3\n",
    "\n",
    "import warnings\n",
    "warnings.filterwarnings('ignore')\n",
    "\n",
    "import matplotlib.pyplot as plt\n",
    "\n",
    "import random\n",
    "import networkx as nx\n",
    "import numpy as np\n",
    "\n",
    "import thinkstats2\n",
    "import thinkplot\n",
    "\n",
    "# colors from our friends at http://colorbrewer2.org\n",
    "COLORS = ['#8dd3c7','#ffffb3','#bebada','#fb8072','#80b1d3','#fdb462',\n",
    "          '#b3de69','#fccde5','#d9d9d9','#bc80bd','#ccebc5','#ffed6f']"
   ]
  },
  {
   "cell_type": "code",
   "execution_count": 2,
   "metadata": {
    "collapsed": true
   },
   "outputs": [],
   "source": [
    "from thinkstats2 import RandomSeed\n",
    "RandomSeed(17)"
   ]
  },
  {
   "cell_type": "markdown",
   "metadata": {},
   "source": [
    "The Watts-Strogatz (WS) network model has small world characteristics (high clustering and low path lengths), but the degree distribution is roughly normal, very different from observed distributions.\n",
    "\n",
    "The Barabasi-Albert (BA) model has low path lengths and a degree distribution with a power law tail, but\n",
    "\n",
    "1. It has low clustering, and \n",
    "2. The degree distribution does not fit observed data well.\n",
    "\n",
    "The Holmes-Kim (HK) model generates graphs with higher clustering, although still not as high as observed values.  And the degree distribution has a power law tail, but it still doesn't fit observed distributions well.\n",
    "\n",
    "I propose a new model that generates graphs \n",
    "\n",
    "1.  Low path lenths,\n",
    "2.  Clustering coefficients similar to the HK model, and\n",
    "3.  A degree distribution that fits observed data well.\n",
    "\n",
    "I test the models with a relatively small dataset from [SNAP](https://snap.stanford.edu/data/egonets-Facebook.html)."
   ]
  },
  {
   "cell_type": "markdown",
   "metadata": {},
   "source": [
    "## Facebook data"
   ]
  },
  {
   "cell_type": "markdown",
   "metadata": {},
   "source": [
    "The following function reads a file with one edge per line, specified by two integer node IDs."
   ]
  },
  {
   "cell_type": "code",
   "execution_count": 3,
   "metadata": {
    "collapsed": false
   },
   "outputs": [],
   "source": [
    "def read_graph(filename):\n",
    "    G = nx.Graph()\n",
    "    array = np.loadtxt(filename, dtype=int)\n",
    "    G.add_edges_from(array)\n",
    "    return G"
   ]
  },
  {
   "cell_type": "markdown",
   "metadata": {},
   "source": [
    "We'll read the Facecook data downloaded from [SNAP](https://snap.stanford.edu/data/egonets-Facebook.html)"
   ]
  },
  {
   "cell_type": "code",
   "execution_count": 4,
   "metadata": {
    "collapsed": false
   },
   "outputs": [
    {
     "data": {
      "text/plain": [
       "(4039, 88234)"
      ]
     },
     "execution_count": 4,
     "metadata": {},
     "output_type": "execute_result"
    }
   ],
   "source": [
    "# https://snap.stanford.edu/data/facebook_combined.txt.gz\n",
    "\n",
    "fb = read_graph('facebook_combined.txt.gz')\n",
    "n = len(fb)\n",
    "m = len(fb.edges())\n",
    "n, m"
   ]
  },
  {
   "cell_type": "markdown",
   "metadata": {
    "collapsed": false
   },
   "source": [
    "The average clustering coefficient is about 0.6"
   ]
  },
  {
   "cell_type": "code",
   "execution_count": 5,
   "metadata": {
    "collapsed": true
   },
   "outputs": [],
   "source": [
    "from networkx.algorithms.approximation import average_clustering"
   ]
  },
  {
   "cell_type": "code",
   "execution_count": 6,
   "metadata": {
    "collapsed": false
   },
   "outputs": [
    {
     "data": {
      "text/plain": [
       "0.602"
      ]
     },
     "execution_count": 6,
     "metadata": {},
     "output_type": "execute_result"
    }
   ],
   "source": [
    "C = average_clustering(fb)\n",
    "C"
   ]
  },
  {
   "cell_type": "markdown",
   "metadata": {},
   "source": [
    "The average path length is short."
   ]
  },
  {
   "cell_type": "code",
   "execution_count": 7,
   "metadata": {
    "collapsed": true
   },
   "outputs": [],
   "source": [
    "def random_path_lengths(G, nodes=None, trials=1000):\n",
    "    \"\"\"Choose random pairs of nodes and compute the path length between them.\n",
    "\n",
    "    G: Graph\n",
    "    nodes: list of nodes to choose from\n",
    "    trials: number of pairs to choose\n",
    "\n",
    "    returns: list of path lengths\n",
    "    \"\"\"\n",
    "    if nodes is None:\n",
    "        nodes = G.nodes()\n",
    "    else:\n",
    "        nodes = list(nodes)\n",
    "        \n",
    "    pairs = np.random.choice(nodes, (trials, 2))\n",
    "    lengths = [nx.shortest_path_length(G, *pair) \n",
    "               for pair in pairs]\n",
    "    return lengths\n",
    "\n",
    "def estimate_path_length(G, nodes=None, trials=1000):\n",
    "    return np.mean(random_path_lengths(G, nodes, trials))"
   ]
  },
  {
   "cell_type": "code",
   "execution_count": 8,
   "metadata": {
    "collapsed": false
   },
   "outputs": [
    {
     "data": {
      "text/plain": [
       "3.686"
      ]
     },
     "execution_count": 8,
     "metadata": {},
     "output_type": "execute_result"
    }
   ],
   "source": [
    "L = estimate_path_length(fb)\n",
    "L"
   ]
  },
  {
   "cell_type": "markdown",
   "metadata": {},
   "source": [
    "## BA model"
   ]
  },
  {
   "cell_type": "markdown",
   "metadata": {},
   "source": [
    "Here's a simplified version of the NetworkX function that generates BA graphs."
   ]
  },
  {
   "cell_type": "code",
   "execution_count": 9,
   "metadata": {
    "collapsed": true
   },
   "outputs": [],
   "source": [
    "# modified version of the NetworkX implementation from\n",
    "# https://github.com/networkx/networkx/blob/master/networkx/generators/random_graphs.py\n",
    "\n",
    "def barabasi_albert_graph(n, m, seed=None):\n",
    "    \"\"\"Returns a random graph according to the Barabási–Albert preferential\n",
    "    attachment model.\n",
    "    A graph of `n` nodes is grown by attaching new nodes each with `m`\n",
    "    edges that are preferentially attached to existing nodes with high degree.\n",
    "    Parameters\n",
    "    ----------\n",
    "    n : int\n",
    "        Number of nodes\n",
    "    m : int\n",
    "        Number of edges to attach from a new node to existing nodes\n",
    "    seed : int, optional\n",
    "        Seed for random number generator (default=None).\n",
    "    Returns\n",
    "    -------\n",
    "    G : Graph\n",
    "    Raises\n",
    "    ------\n",
    "    NetworkXError\n",
    "        If `m` does not satisfy ``1 <= m < n``.\n",
    "    References\n",
    "    ----------\n",
    "    .. [1] A. L. Barabási and R. Albert \"Emergence of scaling in\n",
    "       random networks\", Science 286, pp 509-512, 1999.\n",
    "    \"\"\"\n",
    "\n",
    "    if m < 1 or  m >=n:\n",
    "        raise nx.NetworkXError(\"Barabási–Albert network must have m >= 1\"\n",
    "                               \" and m < n, m = %d, n = %d\" % (m, n))\n",
    "        \n",
    "    if seed is not None:\n",
    "        random.seed(seed)\n",
    "    \n",
    "    G = nx.empty_graph(m)\n",
    "    targets = list(range(m))\n",
    "    repeated_nodes = []\n",
    "\n",
    "    for source in range(m, n):\n",
    "\n",
    "        G.add_edges_from(zip([source]*m, targets))\n",
    "\n",
    "        repeated_nodes.extend(targets)\n",
    "        repeated_nodes.extend([source] * m)\n",
    "\n",
    "        targets = _random_subset(repeated_nodes, m)\n",
    "\n",
    "    return G"
   ]
  },
  {
   "cell_type": "markdown",
   "metadata": {},
   "source": [
    "And here's the function that generates a random subset without repetition."
   ]
  },
  {
   "cell_type": "code",
   "execution_count": 10,
   "metadata": {
    "collapsed": false
   },
   "outputs": [],
   "source": [
    "def _random_subset(repeated_nodes, m):\n",
    "    targets = set()\n",
    "    while len(targets) < m:\n",
    "        x = random.choice(repeated_nodes)\n",
    "        targets.add(x)\n",
    "    return targets"
   ]
  },
  {
   "cell_type": "markdown",
   "metadata": {},
   "source": [
    "I'll generate a BA graph with the same number of nodes and edges as the Facebook data:"
   ]
  },
  {
   "cell_type": "code",
   "execution_count": 11,
   "metadata": {
    "collapsed": false
   },
   "outputs": [
    {
     "data": {
      "text/plain": [
       "(4039, 88234, 22)"
      ]
     },
     "execution_count": 11,
     "metadata": {},
     "output_type": "execute_result"
    }
   ],
   "source": [
    "n = len(fb)\n",
    "m = len(fb.edges())\n",
    "k = int(round(m/n))\n",
    "n, m, k"
   ]
  },
  {
   "cell_type": "markdown",
   "metadata": {},
   "source": [
    "Providing a random seed means we'll get the same graph every time."
   ]
  },
  {
   "cell_type": "code",
   "execution_count": 12,
   "metadata": {
    "collapsed": false
   },
   "outputs": [],
   "source": [
    "ba = barabasi_albert_graph(n, k, seed=15)"
   ]
  },
  {
   "cell_type": "markdown",
   "metadata": {},
   "source": [
    "The number of edges is pretty close to what we asked for."
   ]
  },
  {
   "cell_type": "code",
   "execution_count": 13,
   "metadata": {
    "collapsed": false
   },
   "outputs": [
    {
     "data": {
      "text/plain": [
       "(4039, 88374, 21.880)"
      ]
     },
     "execution_count": 13,
     "metadata": {},
     "output_type": "execute_result"
    }
   ],
   "source": [
    "len(ba), len(ba.edges()), len(ba.edges())/len(ba)"
   ]
  },
  {
   "cell_type": "markdown",
   "metadata": {},
   "source": [
    "So the mean degree is about right."
   ]
  },
  {
   "cell_type": "code",
   "execution_count": 14,
   "metadata": {
    "collapsed": false
   },
   "outputs": [],
   "source": [
    "def degrees(G):\n",
    "    return [G.degree(u) for u in G]"
   ]
  },
  {
   "cell_type": "code",
   "execution_count": 15,
   "metadata": {
    "collapsed": false
   },
   "outputs": [
    {
     "data": {
      "text/plain": [
       "(43.691, 43.760)"
      ]
     },
     "execution_count": 15,
     "metadata": {},
     "output_type": "execute_result"
    }
   ],
   "source": [
    "np.mean(degrees(fb)), np.mean(degrees(ba))"
   ]
  },
  {
   "cell_type": "markdown",
   "metadata": {},
   "source": [
    "The standard deviation of degree is a bit lower than it should be."
   ]
  },
  {
   "cell_type": "code",
   "execution_count": 16,
   "metadata": {
    "collapsed": false
   },
   "outputs": [
    {
     "data": {
      "text/plain": [
       "(52.414, 40.887)"
      ]
     },
     "execution_count": 16,
     "metadata": {},
     "output_type": "execute_result"
    }
   ],
   "source": [
    "np.std(degrees(fb)), np.std(degrees(ba))"
   ]
  },
  {
   "cell_type": "markdown",
   "metadata": {},
   "source": [
    "Let's take a look at the degree distributions."
   ]
  },
  {
   "cell_type": "code",
   "execution_count": 17,
   "metadata": {
    "collapsed": false
   },
   "outputs": [],
   "source": [
    "pmf_fb = thinkstats2.Pmf(degrees(fb))\n",
    "pmf_ba = thinkstats2.Pmf(degrees(ba))"
   ]
  },
  {
   "cell_type": "markdown",
   "metadata": {},
   "source": [
    "Looking at the PMFs on a linear scale, we see one difference, which is that the BA model has no nodes with degree less than `k`, which is 22."
   ]
  },
  {
   "cell_type": "code",
   "execution_count": 18,
   "metadata": {
    "collapsed": false
   },
   "outputs": [
    {
     "data": {
      "image/png": "[encoded data removed]",
      "text/plain": [
       "<matplotlib.figure.Figure at 0x7f6f1ec90e10>"
      ]
     },
     "metadata": {},
     "output_type": "display_data"
    }
   ],
   "source": [
    "thinkplot.preplot(cols=2)\n",
    "\n",
    "thinkplot.Pdf(pmf_fb, label='Facebook')\n",
    "thinkplot.config(xlabel='degree', ylabel='PMF')\n",
    "\n",
    "thinkplot.subplot(2)\n",
    "\n",
    "thinkplot.Pdf(pmf_ba, label='BA graph')\n",
    "thinkplot.config(xlabel='degree', ylabel='PMF')"
   ]
  },
  {
   "cell_type": "markdown",
   "metadata": {},
   "source": [
    "But if we look at the PMF on a log-log scale, the BA model looks pretty good for values bigger than about 20.  And it seems to follow a power law."
   ]
  },
  {
   "cell_type": "code",
   "execution_count": 19,
   "metadata": {
    "collapsed": false
   },
   "outputs": [
    {
     "data": {
      "image/png": "[encoded data removed]",
      "text/plain": [
       "<matplotlib.figure.Figure at 0x7f6f1ec87fd0>"
      ]
     },
     "metadata": {},
     "output_type": "display_data"
    }
   ],
   "source": [
    "thinkplot.preplot(cols=2)\n",
    "\n",
    "thinkplot.Pdf(pmf_fb, style='.', label='Facebook')\n",
    "thinkplot.config(xlabel='degree', ylabel='PMF')\n",
    "thinkplot.config(xscale='log', yscale='log')\n",
    "\n",
    "thinkplot.subplot(2)\n",
    "\n",
    "thinkplot.Pdf(pmf_ba, style='.', label='BA model')\n",
    "thinkplot.config(xlabel='degree', ylabel='PMF')\n",
    "thinkplot.config(xlim=[1, 1e4],\n",
    "                 xscale='log', yscale='log')"
   ]
  },
  {
   "cell_type": "markdown",
   "metadata": {},
   "source": [
    "The characteristic path length is even smaller in the model than in the data."
   ]
  },
  {
   "cell_type": "code",
   "execution_count": 20,
   "metadata": {
    "collapsed": false
   },
   "outputs": [
    {
     "data": {
      "text/plain": [
       "(3.686, 2.527)"
      ]
     },
     "execution_count": 20,
     "metadata": {},
     "output_type": "execute_result"
    }
   ],
   "source": [
    "L, estimate_path_length(ba)"
   ]
  },
  {
   "cell_type": "markdown",
   "metadata": {},
   "source": [
    "But the clustering coefficient isn't even close."
   ]
  },
  {
   "cell_type": "code",
   "execution_count": 21,
   "metadata": {
    "collapsed": false
   },
   "outputs": [
    {
     "data": {
      "text/plain": [
       "(0.602, 0.043)"
      ]
     },
     "execution_count": 21,
     "metadata": {},
     "output_type": "execute_result"
    }
   ],
   "source": [
    "C, average_clustering(ba)"
   ]
  },
  {
   "cell_type": "markdown",
   "metadata": {},
   "source": [
    "In the BA model, the degree distribution is better than in the WS model, but the clustering coefficient is too low."
   ]
  },
  {
   "cell_type": "markdown",
   "metadata": {},
   "source": [
    "## Cumulative distributions"
   ]
  },
  {
   "cell_type": "markdown",
   "metadata": {},
   "source": [
    "`thinkstats2` provides `Cdf`, which computes cumulative distribution functions."
   ]
  },
  {
   "cell_type": "code",
   "execution_count": 22,
   "metadata": {
    "collapsed": true
   },
   "outputs": [],
   "source": [
    "from thinkstats2 import Cdf"
   ]
  },
  {
   "cell_type": "markdown",
   "metadata": {},
   "source": [
    "Here are the degree CDFs for the Facebook data, the WS model, and the BA model."
   ]
  },
  {
   "cell_type": "code",
   "execution_count": 23,
   "metadata": {
    "collapsed": true
   },
   "outputs": [],
   "source": [
    "cdf_fb = Cdf(degrees(fb), label='Facebook')"
   ]
  },
  {
   "cell_type": "code",
   "execution_count": 24,
   "metadata": {
    "collapsed": false
   },
   "outputs": [],
   "source": [
    "cdf_ba = Cdf(degrees(ba), label='BA model')"
   ]
  },
  {
   "cell_type": "markdown",
   "metadata": {},
   "source": [
    "If we plot them on a log-x scale, we get a sense of how well the models fit the central part of the distribution.\n",
    "\n",
    "The WS model is hopeless.  The BA model is ok for values above the median, but not very good for smaller values."
   ]
  },
  {
   "cell_type": "code",
   "execution_count": 25,
   "metadata": {
    "collapsed": false
   },
   "outputs": [
    {
     "data": {
      "image/png": "[encoded data removed]",
      "text/plain": [
       "<matplotlib.figure.Figure at 0x7f6f1d36ff50>"
      ]
     },
     "metadata": {},
     "output_type": "display_data"
    }
   ],
   "source": [
    "thinkplot.Cdf(cdf_fb, label='Facebook')\n",
    "thinkplot.Cdf(cdf_ba, color='gray')\n",
    "thinkplot.config(xlabel='degree', xscale='log',\n",
    "                 ylabel='CDF')"
   ]
  },
  {
   "cell_type": "markdown",
   "metadata": {},
   "source": [
    "On a log-log scale, we see that the BA model fits the tail of the distribution reasonably well."
   ]
  },
  {
   "cell_type": "code",
   "execution_count": 26,
   "metadata": {
    "collapsed": false
   },
   "outputs": [
    {
     "data": {
      "image/png": "[encoded data removed]",
      "text/plain": [
       "<matplotlib.figure.Figure at 0x7f6f1a89fd50>"
      ]
     },
     "metadata": {},
     "output_type": "display_data"
    }
   ],
   "source": [
    "thinkplot.Cdf(cdf_fb, label='Facebook', complement=True)\n",
    "thinkplot.Cdf(cdf_ba, color='gray', complement=True)\n",
    "thinkplot.config(xlabel='degree', xscale='log',\n",
    "                 ylabel='CCDF', yscale='log')"
   ]
  },
  {
   "cell_type": "markdown",
   "metadata": {},
   "source": [
    "## HK model"
   ]
  },
  {
   "cell_type": "markdown",
   "metadata": {},
   "source": [
    "The Holme-Kim (HK) model is similar to the BA model, but it generates additional triangles in order to increase the clustering coefficient.\n",
    "\n",
    "Here's a slightly simplified version of the NetworkX function that generates BA graphs:"
   ]
  },
  {
   "cell_type": "code",
   "execution_count": 27,
   "metadata": {
    "collapsed": true
   },
   "outputs": [],
   "source": [
    "# modified version of the NetworkX implementation from\n",
    "# https://github.com/networkx/networkx/blob/master/networkx/generators/random_graphs.py\n",
    "\n",
    "def powerlaw_cluster_graph(n, m, p, seed=None):\n",
    "    \"\"\"Holme and Kim algorithm for growing graphs with powerlaw\n",
    "    degree distribution and approximate average clustering.\n",
    "    Parameters\n",
    "    ----------\n",
    "    n : int\n",
    "        the number of nodes\n",
    "    m : int\n",
    "        the number of random edges to add for each new node\n",
    "    p : float,\n",
    "        Probability of adding a triangle after adding a random edge\n",
    "    seed : int, optional\n",
    "        Seed for random number generator (default=None).\n",
    "    Notes\n",
    "    -----\n",
    "    The average clustering has a hard time getting above a certain\n",
    "    cutoff that depends on `m`.  This cutoff is often quite low.  The\n",
    "    transitivity (fraction of triangles to possible triangles) seems to\n",
    "    decrease with network size.\n",
    "    It is essentially the Barabási–Albert (BA) growth model with an\n",
    "    extra step that each random edge is followed by a chance of\n",
    "    making an edge to one of its neighbors too (and thus a triangle).\n",
    "    This algorithm improves on BA in the sense that it enables a\n",
    "    higher average clustering to be attained if desired.\n",
    "    It seems possible to have a disconnected graph with this algorithm\n",
    "    since the initial `m` nodes may not be all linked to a new node\n",
    "    on the first iteration like the BA model.\n",
    "    Raises\n",
    "    ------\n",
    "    NetworkXError\n",
    "        If `m` does not satisfy ``1 <= m <= n`` or `p` does not\n",
    "        satisfy ``0 <= p <= 1``.\n",
    "    References\n",
    "    ----------\n",
    "    .. [1] P. Holme and B. J. Kim,\n",
    "       \"Growing scale-free networks with tunable clustering\",\n",
    "       Phys. Rev. E, 65, 026107, 2002.\n",
    "    \"\"\"\n",
    "\n",
    "    if m < 1 or n < m:\n",
    "        raise nx.NetworkXError(\\\n",
    "              \"NetworkXError must have m>1 and m<n, m=%d,n=%d\"%(m,n))\n",
    "\n",
    "    if p > 1 or p < 0:\n",
    "        raise nx.NetworkXError(\\\n",
    "              \"NetworkXError p must be in [0,1], p=%f\"%(p))\n",
    "    if seed is not None:\n",
    "        random.seed(seed)\n",
    "\n",
    "    G = nx.empty_graph(m) # add m initial nodes (m0 in barabasi-speak)\n",
    "    G.name=\"Powerlaw-Cluster Graph\"\n",
    "    repeated_nodes = list(G.nodes()) # list of existing nodes to sample from\n",
    "                           # with nodes repeated once for each adjacent edge\n",
    "        \n",
    "    for source in range(m, n):\n",
    "        possible_targets = _random_subset(repeated_nodes,m)\n",
    "        # do one preferential attachment for new node\n",
    "        target=possible_targets.pop()\n",
    "        G.add_edge(source,target)\n",
    "        repeated_nodes.append(target) # add one node to list for each new link\n",
    "        count=1\n",
    "        while count<m:  # add m-1 more new links\n",
    "            if random.random()<p: # clustering step: add triangle\n",
    "                neighborhood=[nbr for nbr in G.neighbors(target) \\\n",
    "                               if not G.has_edge(source,nbr) \\\n",
    "                               and not nbr==source]\n",
    "                if neighborhood: # if there is a neighbor without a link\n",
    "                    nbr=random.choice(neighborhood)\n",
    "                    G.add_edge(source,nbr) # add triangle\n",
    "                    repeated_nodes.append(nbr)\n",
    "                    count=count+1\n",
    "                    continue # go to top of while loop\n",
    "            # else do preferential attachment step if above fails\n",
    "            target=possible_targets.pop()\n",
    "            G.add_edge(source,target)\n",
    "            repeated_nodes.append(target)\n",
    "            count=count+1\n",
    "\n",
    "        repeated_nodes.extend([source]*m)  # add source node to list m times\n",
    "    return G"
   ]
  },
  {
   "cell_type": "code",
   "execution_count": 28,
   "metadata": {
    "collapsed": false
   },
   "outputs": [
    {
     "data": {
      "text/plain": [
       "(4039, 88234, 22)"
      ]
     },
     "execution_count": 28,
     "metadata": {},
     "output_type": "execute_result"
    }
   ],
   "source": [
    "n = len(fb)\n",
    "m = len(fb.edges())\n",
    "k = int(round(m / n))\n",
    "n, m, k"
   ]
  },
  {
   "cell_type": "code",
   "execution_count": 29,
   "metadata": {
    "collapsed": false
   },
   "outputs": [
    {
     "data": {
      "text/plain": [
       "(4039, 88354)"
      ]
     },
     "execution_count": 29,
     "metadata": {},
     "output_type": "execute_result"
    }
   ],
   "source": [
    "hk = powerlaw_cluster_graph(n, k, 1.0, seed=15)\n",
    "len(hk), len(hk.edges())"
   ]
  },
  {
   "cell_type": "markdown",
   "metadata": {},
   "source": [
    "The clustering coefficient is better than in the BA model, but still subtantially lower than in the dataset."
   ]
  },
  {
   "cell_type": "code",
   "execution_count": 30,
   "metadata": {
    "collapsed": false
   },
   "outputs": [
    {
     "data": {
      "text/plain": [
       "(0.602, 0.232)"
      ]
     },
     "execution_count": 30,
     "metadata": {},
     "output_type": "execute_result"
    }
   ],
   "source": [
    "C, average_clustering(hk)"
   ]
  },
  {
   "cell_type": "markdown",
   "metadata": {},
   "source": [
    "The path lengths are very short."
   ]
  },
  {
   "cell_type": "code",
   "execution_count": 31,
   "metadata": {
    "collapsed": false
   },
   "outputs": [
    {
     "data": {
      "text/plain": [
       "(3.686, 2.787)"
      ]
     },
     "execution_count": 31,
     "metadata": {},
     "output_type": "execute_result"
    }
   ],
   "source": [
    "L, estimate_path_length(hk)"
   ]
  },
  {
   "cell_type": "markdown",
   "metadata": {},
   "source": [
    "The mean degree is about right, but the standard deviation is a little low."
   ]
  },
  {
   "cell_type": "code",
   "execution_count": 32,
   "metadata": {
    "collapsed": false
   },
   "outputs": [
    {
     "data": {
      "text/plain": [
       "(43.691, 43.750)"
      ]
     },
     "execution_count": 32,
     "metadata": {},
     "output_type": "execute_result"
    }
   ],
   "source": [
    "np.mean(degrees(fb)), np.mean(degrees(hk))"
   ]
  },
  {
   "cell_type": "code",
   "execution_count": 33,
   "metadata": {
    "collapsed": false
   },
   "outputs": [
    {
     "data": {
      "text/plain": [
       "(52.414, 41.495)"
      ]
     },
     "execution_count": 33,
     "metadata": {},
     "output_type": "execute_result"
    }
   ],
   "source": [
    "np.std(degrees(fb)), np.std(degrees(hk))"
   ]
  },
  {
   "cell_type": "markdown",
   "metadata": {},
   "source": [
    "The distribution of degrees is pretty much the same as from the BA model.  It doesn't fit the lower and central parts of the distribution well."
   ]
  },
  {
   "cell_type": "code",
   "execution_count": 34,
   "metadata": {
    "collapsed": false
   },
   "outputs": [],
   "source": [
    "cdf_hk = Cdf(degrees(hk), label='HK model')"
   ]
  },
  {
   "cell_type": "code",
   "execution_count": 35,
   "metadata": {
    "collapsed": false
   },
   "outputs": [
    {
     "data": {
      "image/png": "[encoded data removed]",
      "text/plain": [
       "<matplotlib.figure.Figure at 0x7f6f1a26c1d0>"
      ]
     },
     "metadata": {},
     "output_type": "display_data"
    }
   ],
   "source": [
    "thinkplot.Cdf(cdf_fb)\n",
    "thinkplot.Cdf(cdf_ba, color=COLORS[0])\n",
    "thinkplot.Cdf(cdf_hk, color='gray')\n",
    "thinkplot.config(xscale='log')"
   ]
  },
  {
   "cell_type": "markdown",
   "metadata": {},
   "source": [
    "But it fits the tail of the distribution reasonably well."
   ]
  },
  {
   "cell_type": "code",
   "execution_count": 36,
   "metadata": {
    "collapsed": false
   },
   "outputs": [
    {
     "data": {
      "image/png": "[encoded data removed]",
      "text/plain": [
       "<matplotlib.figure.Figure at 0x7f6f1a2ca110>"
      ]
     },
     "metadata": {},
     "output_type": "display_data"
    }
   ],
   "source": [
    "thinkplot.Cdf(cdf_fb, complement=True)\n",
    "thinkplot.Cdf(cdf_ba, complement=True, color=COLORS[0])\n",
    "thinkplot.Cdf(cdf_hk, complement=True, color='gray')\n",
    "thinkplot.config(xscale='log', yscale='log', loc='upper right')"
   ]
  },
  {
   "cell_type": "markdown",
   "metadata": {
    "collapsed": true
   },
   "source": [
    "## Downey model"
   ]
  },
  {
   "cell_type": "markdown",
   "metadata": {},
   "source": [
    "My network generation process is similar to both BA and HK.  It starts with a complete graph with `m` nodes, so initially all nodes have degree `m`.\n",
    "\n",
    "Each time we generate a node we\n",
    "\n",
    "1.  Select a random target uniformly from existing nodes.\n",
    "2.  Iterate through the friends of the target.  For each one, with probability `p`, we form a triangle that includes the source, friend, and a random friend of friend.\n",
    "3.  Finally, we connect the source and target.\n",
    "\n",
    "Because we choose friends of the target, this process has preferential attachment, but it does not yield a power law tail.  Rather, the degree distribution is approximately lognormal with median degree `m`.\n",
    "\n",
    "Because this process forms triangles, it tends to yield a moderately-high clustering coefficient.\n",
    "\n",
    "Here's what my implementation looks like:"
   ]
  },
  {
   "cell_type": "code",
   "execution_count": 37,
   "metadata": {
    "collapsed": true
   },
   "outputs": [],
   "source": [
    "def flip(p):\n",
    "    return random.random() < p\n",
    "\n",
    "\n",
    "def triangle(G, source, friend):\n",
    "    \"\"\"Chooses a random neighbor of `friend` and makes a triangle.\n",
    "    \n",
    "    Triangle connects `source`, `friend`, and a random neighbor\n",
    "    of `friend`.\n",
    "    \"\"\"\n",
    "    fof = set(G[friend])\n",
    "    if source in G:\n",
    "        fof -= set(G[source])\n",
    "    if fof:\n",
    "        w = random.choice(list(fof))\n",
    "        G.add_edge(source, w)\n",
    "    G.add_edge(source, friend)\n",
    "\n",
    "    \n",
    "def downey_graph(n, m, p=0.25, seed=None):\n",
    "    \"\"\"Makes a small world graph with a lognormal degree distribution.\"\"\"\n",
    "    if m < 1 or  m+1 >= n:\n",
    "        raise nx.NetworkXError(\\\n",
    "              \"Downey network must have m>=1 and m+1<n, m=%d,n=%d\"%(m,n))\n",
    "    if seed is not None:\n",
    "        random.seed(seed)\n",
    "\n",
    "    # start with a completely connected core\n",
    "    G = nx.complete_graph(m+1)\n",
    "    G.name=\"downey_graph(%s,%s)\"%(n,m)\n",
    "\n",
    "    for source in range(len(G), n):\n",
    "        # choose a random node\n",
    "        target = random.choice(G.nodes())\n",
    "        \n",
    "        # enumerate neighbors of target and add triangles\n",
    "        friends = G.neighbors(target)\n",
    "        k = len(friends)\n",
    "        for friend in friends:\n",
    "            if flip(p):\n",
    "                triangle(G, source, friend)\n",
    "\n",
    "        # connect source and target\n",
    "        G.add_edge(source, target)\n",
    "            \n",
    "    return G"
   ]
  },
  {
   "cell_type": "markdown",
   "metadata": {},
   "source": [
    "The parameter `m` is the average degree."
   ]
  },
  {
   "cell_type": "code",
   "execution_count": 38,
   "metadata": {
    "collapsed": false
   },
   "outputs": [
    {
     "data": {
      "text/plain": [
       "(4039, 44)"
      ]
     },
     "execution_count": 38,
     "metadata": {},
     "output_type": "execute_result"
    }
   ],
   "source": [
    "n = len(fb)\n",
    "m = int(round(np.mean(degrees(fb))))\n",
    "n, m"
   ]
  },
  {
   "cell_type": "markdown",
   "metadata": {},
   "source": [
    "The parameter `p` is the probability of adding a triangle.  Since each triangle increases the total degree by 4, keeping `p` near `1/4` tends to keep `m` constant."
   ]
  },
  {
   "cell_type": "code",
   "execution_count": 39,
   "metadata": {
    "collapsed": false
   },
   "outputs": [
    {
     "data": {
      "text/plain": [
       "(4039, 86725)"
      ]
     },
     "execution_count": 39,
     "metadata": {},
     "output_type": "execute_result"
    }
   ],
   "source": [
    "dg = downey_graph(n, m, p=0.24, seed=21)\n",
    "len(dg), len(dg.edges())"
   ]
  },
  {
   "cell_type": "markdown",
   "metadata": {},
   "source": [
    "The clustering coefficient is similar to what we get from the HK model."
   ]
  },
  {
   "cell_type": "code",
   "execution_count": 40,
   "metadata": {
    "collapsed": false
   },
   "outputs": [
    {
     "data": {
      "text/plain": [
       "(0.602, 0.240)"
      ]
     },
     "execution_count": 40,
     "metadata": {},
     "output_type": "execute_result"
    }
   ],
   "source": [
    "C, average_clustering(dg)"
   ]
  },
  {
   "cell_type": "markdown",
   "metadata": {},
   "source": [
    "The average path length is low."
   ]
  },
  {
   "cell_type": "code",
   "execution_count": 41,
   "metadata": {
    "collapsed": false
   },
   "outputs": [
    {
     "data": {
      "text/plain": [
       "(3.686, 2.997)"
      ]
     },
     "execution_count": 41,
     "metadata": {},
     "output_type": "execute_result"
    }
   ],
   "source": [
    "L, estimate_path_length(dg)"
   ]
  },
  {
   "cell_type": "markdown",
   "metadata": {},
   "source": [
    "The degree distribution fits the observed data well"
   ]
  },
  {
   "cell_type": "code",
   "execution_count": 42,
   "metadata": {
    "collapsed": false
   },
   "outputs": [],
   "source": [
    "cdf_dg = Cdf(degrees(dg))"
   ]
  },
  {
   "cell_type": "code",
   "execution_count": 43,
   "metadata": {
    "collapsed": false
   },
   "outputs": [
    {
     "data": {
      "image/png": "[encoded data removed]",
      "text/plain": [
       "<matplotlib.figure.Figure at 0x7f6f1a1c5790>"
      ]
     },
     "metadata": {},
     "output_type": "display_data"
    }
   ],
   "source": [
    "thinkplot.Cdf(cdf_fb)\n",
    "thinkplot.Cdf(cdf_dg, color='gray')\n",
    "thinkplot.config(xscale='log')"
   ]
  },
  {
   "cell_type": "markdown",
   "metadata": {},
   "source": [
    "The tail does not follow a power law, but it is not clear whether the data does, either.\n",
    "\n",
    "The model fits the data well except in the extreme tail."
   ]
  },
  {
   "cell_type": "code",
   "execution_count": 44,
   "metadata": {
    "collapsed": false
   },
   "outputs": [
    {
     "data": {
      "image/png": "[encoded data removed]",
      "text/plain": [
       "<matplotlib.figure.Figure at 0x7f6f1ab07b50>"
      ]
     },
     "metadata": {},
     "output_type": "display_data"
    }
   ],
   "source": [
    "thinkplot.Cdf(cdf_fb, complement=True)\n",
    "thinkplot.Cdf(cdf_dg, complement=True, color='gray')\n",
    "thinkplot.config(xscale='log', yscale='log')"
   ]
  },
  {
   "cell_type": "code",
   "execution_count": null,
   "metadata": {
    "collapsed": true
   },
   "outputs": [],
   "source": []
  },
  {
   "cell_type": "code",
   "execution_count": null,
   "metadata": {
    "collapsed": true
   },
   "outputs": [],
   "source": []
  },
  {
   "cell_type": "code",
   "execution_count": null,
   "metadata": {
    "collapsed": true
   },
   "outputs": [],
   "source": []
  },
  {
   "cell_type": "code",
   "execution_count": null,
   "metadata": {
    "collapsed": true
   },
   "outputs": [],
   "source": []
  }
 ],
 "metadata": {
  "kernelspec": {
   "display_name": "Python 2",
   "language": "python",
   "name": "python2"
  },
  "language_info": {
   "codemirror_mode": {
    "name": "ipython",
    "version": 2
   },
   "file_extension": ".py",
   "mimetype": "text/x-python",
   "name": "python",
   "nbconvert_exporter": "python",
   "pygments_lexer": "ipython2",
   "version": "2.7.11"
  }
 },
 "nbformat": 4,
 "nbformat_minor": 0
}
